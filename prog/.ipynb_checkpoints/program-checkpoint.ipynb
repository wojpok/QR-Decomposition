{
 "cells": [
  {
   "cell_type": "markdown",
   "id": "352147c9-5b56-45af-8b17-c02a6b767741",
   "metadata": {},
   "source": [
    "# Dekompozycja QR"
   ]
  },
  {
   "cell_type": "code",
   "execution_count": 1,
   "id": "76d83d1b-38f3-4aad-a423-6b7c0cb7ef44",
   "metadata": {},
   "outputs": [
    {
     "data": {
      "text/plain": [
       "GramSchmidt (generic function with 1 method)"
      ]
     },
     "execution_count": 1,
     "metadata": {},
     "output_type": "execute_result"
    }
   ],
   "source": [
    "using LinearAlgebra # Biblioteka potrzebna żeby zwracać R jako macierz górnotrójkątną\n",
    "\n",
    "# Funkcje pomocnicze\n",
    "function vectorNorm(vec1, vec2)\n",
    "    return transpose(vec1)*(vec2)\n",
    "end\n",
    "\n",
    "function vecProjection(u, vec)\n",
    "    return vectorNorm(u, vec)/vectorNorm(u,u) * u\n",
    "end\n",
    "\n",
    "function vecNormalize(vec)\n",
    "    return sqrt(1 / vectorNorm(vec, vec)) * vec\n",
    "end\n",
    "\n",
    "# ------------------------------------------------------\n",
    "#               Algorytm Grama Schmidta\n",
    "# ------------------------------------------------------\n",
    "\n",
    "function GramSchmidt(mat)\n",
    "\n",
    "    baseU = Matrix{Float64}(undef, size(mat, 1), 0)\n",
    "    baseE = Matrix{Float64}(undef, size(mat, 1), 0)\n",
    "\n",
    "    # wyliczanie bazy E oraz U\n",
    "    for i in 1:size(mat, 1)\n",
    "        u = mat[:, i]\n",
    "        for j in 1:(i-1)\n",
    "            u = u - vecProjection(baseU[:, j], mat[:, i])\n",
    "        end\n",
    "\n",
    "        baseU = hcat(baseU, u)\n",
    "        baseE = hcat(baseE, vecNormalize(u))\n",
    "    end\n",
    "    \n",
    "    # wyliczanie macierzy R\n",
    "    R = Matrix{Float64}(undef, size(mat, 1), size(mat, 1))\n",
    "    for i in 1:size(mat, 1)\n",
    "        for j in 1:size(mat, 1)\n",
    "            R[i, j] = vectorNorm(baseE[:, i], mat[:, j])\n",
    "        end\n",
    "    end\n",
    "\n",
    "    baseE, UpperTriangular(R)\n",
    "end\n"
   ]
  },
  {
   "cell_type": "code",
   "execution_count": 8,
   "id": "242fbe1f-bfd1-4c9a-9466-3a2590fd84c0",
   "metadata": {},
   "outputs": [
    {
     "data": {
      "text/plain": [
       "3×3 Matrix{Float64}:\n",
       " -1.77636e-15  -7.10543e-15  1.77636e-15\n",
       " -1.77636e-15   0.0          1.42109e-14\n",
       "  8.88178e-16  -1.42109e-14  7.10543e-15"
      ]
     },
     "execution_count": 8,
     "metadata": {},
     "output_type": "execute_result"
    }
   ],
   "source": [
    "# ------------------------------------------------------\n",
    "#         Zmodyfikowany Algorytm Grama Schmidta\n",
    "# ------------------------------------------------------\n",
    "\n",
    "function MGS(mat)\n",
    "    n = size(mat, 2)\n",
    "    baseU = [mat[:, i] for i in 1:n]\n",
    "    \n",
    "    for i in 1:n\n",
    "        for j in (i+1):n\n",
    "            baseU[j] = baseU[j] - vecProjection(baseU[i], baseU[j])\n",
    "        end\n",
    "    end\n",
    "    \n",
    "    baseE = Matrix{Float64}(undef, n, 0)\n",
    "    \n",
    "    for i in 1:n\n",
    "        baseE = hcat(baseE, vecNormalize(baseU[i]))\n",
    "    end\n",
    "    \n",
    "    return baseE, transpose(baseE)*mat\n",
    "    \n",
    "end\n",
    "\n",
    "t = transpose([12.0 6.0 -4.0; -51.0 167.0 24.0; 4.0 -68.0 -41.0])\n",
    "q, r = MGS(t)\n",
    "q*r-t\n"
   ]
  },
  {
   "cell_type": "code",
   "execution_count": 15,
   "id": "3244487c-3c8e-4462-9ff0-7fd0590097e5",
   "metadata": {},
   "outputs": [
    {
     "data": {
      "text/plain": [
       "AlgorithmQuality (generic function with 1 method)"
      ]
     },
     "execution_count": 15,
     "metadata": {},
     "output_type": "execute_result"
    }
   ],
   "source": [
    "# Prosta funkcja porównująca macierze\n",
    "# Zwraca parę liczb: maksymalny i średni błąd macierzy result względem macierzy dest\n",
    "function CompareMatrix(dest, result)\n",
    "    maxErr, sumErr = 0, 0\n",
    "    matSize = size(result, 1)\n",
    "\n",
    "    for i in 1:matSize\n",
    "        for j in 1:matSize\n",
    "            nErr = abs(dest[i, j] - result[i, j])\n",
    "            sumErr = sumErr + nErr\n",
    "            maxErr = maxErr > nErr ? maxErr : nErr\n",
    "        end\n",
    "    end\n",
    "\n",
    "    maxErr, sumErr/(matSize*matSize)\n",
    "end\n",
    "\n",
    "# Funckja oceniająca jakość algorytmu rozkładu QRalgorithm macierzy mat\n",
    "# Używa Compare Matrix by określić jak dobrze Q^T Q = Id i QR = mat\n",
    "function AlgorithmQuality(mat, QRalgoritm; extended = false)\n",
    "    println(\"===============================\\nQR comparison\")\n",
    "    if extended; println(\"A = \",mat); end\n",
    "\n",
    "    q, r =  QRalgoritm(mat)\n",
    "\n",
    "    id = transpose(q)*q\n",
    "    em, ea = CompareMatrix(I, id)\n",
    "    \n",
    "    println(\"Q^T*Q-Id performance\")\n",
    "    if extended; println(\"Q = \",q); end\n",
    "    if extended; println(\"Q^T*Q = \", id); end\n",
    "    println(\"Average Error: \",ea,\"\\nMax Error: \",em)\n",
    "\n",
    "    qr = q*r\n",
    "    em, ea = CompareMatrix(mat, qr)\n",
    "    println(\"QR-M performance\")\n",
    "    if extended; println(\"R = \",r); end\n",
    "    if extended; println(\"QR = \",qr); end\n",
    "    println(\"Average Error: \",ea,\"\\nMax Error: \",em)\n",
    "    print(\"\\n\")\n",
    "end\n"
   ]
  },
  {
   "cell_type": "code",
   "execution_count": 16,
   "id": "3f1bde4f-e930-4b7d-8805-e17406ca0bf5",
   "metadata": {
    "tags": []
   },
   "outputs": [
    {
     "name": "stdout",
     "output_type": "stream",
     "text": [
      "===============================\n",
      "QR comparison\n",
      "Q^T*Q-Id performance\n",
      "Average Error: 4.635001668668783e-16\n",
      "Max Error: 1.967727529527664e-14\n",
      "QR-M performance\n",
      "Average Error: 1.373035419318411e-6\n",
      "Max Error: 3.8623809814453125e-5\n",
      "\n"
     ]
    }
   ],
   "source": [
    "\n",
    "# Losowa macierz\n",
    "function RandomMatrix(size, rad)\n",
    "    R = Matrix{Float64}(undef, size, 0)\n",
    "    for i in 1:size \n",
    "        R = hcat(R, rand(size) * rad .- (rad/2))\n",
    "        #R = hcat(R, [(j == i) ? Float64(1.0) : (abs(i - j) > 0) ? (i - j)*lambda : Float64(0.0) for j in 1:size]) \n",
    "    end\n",
    "    return R\n",
    "end \n",
    "R = (RandomMatrix(30, 10^10))\n",
    "\n",
    "#for i in 1:10\n",
    "#    print(R[:, i], \"\\n\")\n",
    "#end\n",
    "\n",
    "AlgorithmQuality(R, GramSchmidt);"
   ]
  },
  {
   "cell_type": "code",
   "execution_count": 287,
   "id": "dcfbb679-a368-453d-bca0-09ae64ec43ab",
   "metadata": {},
   "outputs": [
    {
     "data": {
      "text/plain": [
       "3×3 Matrix{Float64}:\n",
       " 0.0  1.42109e-14  1.77636e-15\n",
       " 0.0  0.0          1.42109e-14\n",
       " 0.0  0.0          1.42109e-14"
      ]
     },
     "execution_count": 287,
     "metadata": {},
     "output_type": "execute_result"
    }
   ],
   "source": [
    "# ------------------------------------------------------\n",
    "#               Algorytm Householdera\n",
    "# ------------------------------------------------------\n",
    "function Householder(A)\n",
    "    # rozmiar macierzy\n",
    "    n = size(A, 2)\n",
    "    \n",
    "    # tworzy macierz Householdera ze wzoru\n",
    "    function Hn(vec)\n",
    "        vn = vec\n",
    "        vn[1] -= sqrt(vectorNorm(vec, vec))\n",
    "        return I - (2*vn*transpose(vn))/(transpose(vn)*vn)\n",
    "    end\n",
    "    \n",
    "    # nakładanie macierzy H na Id, otrzymujemy H'\n",
    "    function Hpn(mat)\n",
    "        m = size(mat, 1)\n",
    "        d = n - m\n",
    "        res = convert(Matrix{Float64}, I[1:n, 1:n])\n",
    "        for i in 1:m\n",
    "            for j in 1:m\n",
    "                res[d + i, d + j] = mat[i, j]\n",
    "            end\n",
    "        end\n",
    "        return res\n",
    "    end\n",
    "    \n",
    "    Q = I[1:n, 1:n]\n",
    "    R = A\n",
    "    # Iterowanie po rzędzach, branie podmacierzy i obliczanie kolejnych Hn\n",
    "    for i = 1:1:n # jeśli dobrze rozumiem można iterować do n-1, dostaje się prawie identyczny wynik\n",
    "                  # jak na wikipedii, oprócz elementu [3, 3] który ma znak przeciwny w macierzy R, ale odpowiednio wychodzi macierz Q\n",
    "        Sub = R[i:n, i:n]\n",
    "        Hp = Hpn(Hn(Sub[:, 1]))\n",
    "        R = Hp*R\n",
    "        Q = Q*Hp\n",
    "    end\n",
    "    \n",
    "    return Q, UpperTriangular(R)\n",
    "end\n",
    "t = transpose([12.0 6.0 -4.0; -51.0 167.0 24.0; 4.0 -68.0 -41.0])\n",
    "q, r = Householder(t)\n",
    "q*r-t\n"
   ]
  },
  {
   "cell_type": "code",
   "execution_count": 288,
   "id": "b2441df2-838a-4179-87b2-cefeabbb4e24",
   "metadata": {},
   "outputs": [
    {
     "name": "stdout",
     "output_type": "stream",
     "text": [
      "Total change in arguments -0.012617958408255081\n",
      "Total change in Q 0.0004973705216753388\n",
      "Average change in Q 5.526339129725987e-5\n",
      "Total change in R 0.017241569644966148\n",
      "Average change in R 0.0019157299605517943\n",
      "|ΔQ|/|Δarg| -0.03941767008440468\n",
      "|Δq|/|Δarg| -0.004379741120489409\n",
      "|ΔR|/|Δarg| -1.3664310094481014\n",
      "|Δr|/|Δarg| -0.1518256677164557\n",
      "Total change in M-Q*R -2.531308496145357e-14\n",
      "Average change in M-Q*R -2.812564995717063e-15\n"
     ]
    }
   ],
   "source": [
    "#add random noise\n",
    "function addRandomNoise(M, amount=0.01)\n",
    "    noise = rand(Float64, size(M))\n",
    "    noise = noise .* 2 .- 1 \n",
    "    noise = noise .* amount\n",
    "    #uniform distribution from -amount to amount\n",
    "    return M+noise\n",
    "end\n",
    "\n",
    "function checkChange(M, decomp)\n",
    "    noisy = addRandomNoise(M)\n",
    "    println(\"Total change in arguments \", sum(noisy-M))\n",
    "    q, r = decomp(M)\n",
    "    qn, rn = decomp(noisy)\n",
    "    siz = size(M)[1]*size(M)[2]\n",
    "    \n",
    "    println(\"Total change in Q \", sum(qn-q))\n",
    "    println(\"Average change in Q \", sum(qn-q)/siz)\n",
    "    println(\"Total change in R \", sum(rn-r))\n",
    "    println(\"Average change in R \", sum(rn-r)/siz)\n",
    "    println(\"|ΔQ|/|Δarg| \", sum(qn-q)/sum(noisy-M))\n",
    "    println(\"|Δq|/|Δarg| \", sum(qn-q)/(siz*sum(noisy-M)))\n",
    "    println(\"|ΔR|/|Δarg| \", sum(rn-r)/sum(noisy-M))\n",
    "    println(\"|Δr|/|Δarg| \", sum(rn-r)/(siz*sum(noisy-M)))\n",
    "    println(\"Total change in M-Q*R \", sum(M-q*r)-sum(noisy-qn*rn))\n",
    "    println(\"Average change in M-Q*R \", (sum(M-q*r)-sum(noisy-qn*rn))/siz)\n",
    "\n",
    "end\n",
    "\n",
    "checkChange(t, Householder)\n"
   ]
  },
  {
   "cell_type": "code",
   "execution_count": 296,
   "id": "dbb11c5c",
   "metadata": {},
   "outputs": [
    {
     "data": {
      "text/plain": [
       "2×1 Matrix{Float64}:\n",
       " 2.5999999999999996\n",
       " 0.6000000000000001"
      ]
     },
     "execution_count": 296,
     "metadata": {},
     "output_type": "execute_result"
    }
   ],
   "source": [
    "function solveLinearSystem(M, ys, decomp=GramSchmidt)\n",
    "    q, r = decomp(M)\n",
    "    \n",
    "    ys = transpose(q)*transpose(ys)\n",
    "    \n",
    "    solutions = zeros(Float64, size(ys))\n",
    "    n = size(ys)[1]\n",
    "\n",
    "    for i in n:-1:1\n",
    "        sub = 0\n",
    "        for j in n:-1:i+1\n",
    "            sub += solutions[j]*r[i,j]\n",
    "        end\n",
    "        solutions[i]=(ys[i]-sub)/r[i,i]\n",
    "    end\n",
    "    \n",
    "    #x = r\\ys for debug purposes only\n",
    "    return solutions\n",
    "end\n",
    "\n",
    "coeffs = [2.0 3.0; 1.0 4.0]\n",
    "ys = [7 5]\n",
    "solveLinearSystem(coeffs, ys)"
   ]
  },
  {
   "cell_type": "code",
   "execution_count": null,
   "id": "4aec1c13",
   "metadata": {},
   "outputs": [],
   "source": []
  }
 ],
 "metadata": {
  "kernelspec": {
   "display_name": "Julia 1.6.0",
   "language": "julia",
   "name": "julia-1.6"
  },
  "language_info": {
   "file_extension": ".jl",
   "mimetype": "application/julia",
   "name": "julia",
   "version": "1.6.0"
  }
 },
 "nbformat": 4,
 "nbformat_minor": 5
}
