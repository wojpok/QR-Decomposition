{
 "cells": [
  {
   "cell_type": "markdown",
   "id": "352147c9-5b56-45af-8b17-c02a6b767741",
   "metadata": {},
   "source": [
    "# Dekompozycja QR"
   ]
  },
  {
   "cell_type": "code",
   "execution_count": 66,
   "id": "76d83d1b-38f3-4aad-a423-6b7c0cb7ef44",
   "metadata": {},
   "outputs": [
    {
     "name": "stdout",
     "output_type": "stream",
     "text": [
      "===============================\n",
      "QR comparison\n",
      "Average Error: 4.163336342344337e-17\n",
      "Max Error: 8.326672684688674e-17\n",
      "Average Error: 3.3306690738754696e-16\n",
      "Max Error: 8.881784197001252e-16\n",
      "\n",
      "===============================\n",
      "QR comparison\n",
      "Average Error: 1.4186183092432555e-16\n",
      "Max Error: 4.163336342344337e-16\n",
      "Average Error: 1.0608797790862607e-15\n",
      "Max Error: 4.884981308350689e-15\n",
      "\n"
     ]
    }
   ],
   "source": [
    "using LinearAlgebra # Biblioteka potrzebna żeby zwracać R jako macierz górnotrójkątną\n",
    "\n",
    "# ------------------------------------------------------\n",
    "#               Algorytm Gramma Schmidta\n",
    "# ------------------------------------------------------\n",
    "\n",
    "function grammSchmidt(mat)\n",
    "    # Funkcje pomocnicze\n",
    "    function vectorNorm(vec1, vec2)\n",
    "        return transpose(vec1)*(vec2)\n",
    "    end\n",
    "    \n",
    "    function vecProjection(u, vec)\n",
    "        return vectorNorm(u, vec)/vectorNorm(u,u) * u\n",
    "    end\n",
    "    \n",
    "    function vecNormalize(vec)\n",
    "        return sqrt(1 / vectorNorm(vec, vec)) * vec\n",
    "    end\n",
    "\n",
    "    baseU = Matrix{Float64}(undef, size(mat, 1), 0)\n",
    "    baseE = Matrix{Float64}(undef, size(mat, 1), 0)\n",
    "\n",
    "    # wyliczanie bazy E oraz U\n",
    "    for i in 1:size(mat, 1)\n",
    "        u = mat[:, i]\n",
    "        for j in 1:(i-1)\n",
    "            u = u - vecProjection(baseU[:, j], mat[:, i])\n",
    "        end\n",
    "\n",
    "        baseU = hcat(baseU, u)\n",
    "        baseE = hcat(baseE, vecNormalize(u))\n",
    "    end\n",
    "    \n",
    "    # wyliczanie macierzy R\n",
    "    R = Matrix{Float64}(undef, size(mat, 1), size(mat, 1))\n",
    "    for i in 1:size(mat, 1)\n",
    "        for j in 1:size(mat, 1)\n",
    "            R[i, j] = vectorNorm(baseE[:, i], mat[:, j])\n",
    "        end\n",
    "    end\n",
    "\n",
    "    baseE, UpperTriangular(R)\n",
    "end\n",
    "\n",
    "# Prosta funkcja porównująca macierze\n",
    "# Zwraca parę liczb: maksymalny i średni błąd macierzy result względem macierzy dest\n",
    "function CompareMatrix(dest, result)\n",
    "    maxErr, sumErr = 0, 0\n",
    "    matSize = size(result, 1)\n",
    "\n",
    "    for i in 1:matSize\n",
    "        for j in 1:matSize\n",
    "            nErr = abs(dest[i, j] - result[i, j])\n",
    "            sumErr = sumErr + nErr\n",
    "            maxErr = maxErr > nErr ? maxErr : nErr\n",
    "        end\n",
    "    end\n",
    "\n",
    "    maxErr, sumErr/(matSize*matSize)\n",
    "end\n",
    "\n",
    "# Funckja oceniająca jakość algorytmu rozkładu QRalgorithm macierzy mat\n",
    "# Używa Compare Matrix by określić jak dobrze Q^T Q = Id i QR = mat\n",
    "function AlgorithmQuality(mat, QRalgoritm; extended = false)\n",
    "    println(\"===============================\\nQR comparison\")\n",
    "    if extended; println(\"A = \",mat); end\n",
    "\n",
    "    q, r =  QRalgoritm(mat)\n",
    "\n",
    "    id = transpose(q)*q\n",
    "    em, ea = CompareMatrix(I, id)\n",
    "\n",
    "    if extended; println(\"Q = \",q); end\n",
    "    if extended; println(\"Q^T*Q = \", id); end\n",
    "    println(\"Average Error: \",ea,\"\\nMax Error: \",em)\n",
    "\n",
    "    qr = q*r\n",
    "    em, ea = CompareMatrix(mat, qr)\n",
    "    if extended; println(\"R = \",r); end\n",
    "    if extended; println(\"QR = \",qr); end\n",
    "    println(\"Average Error: \",ea,\"\\nMax Error: \",em)\n",
    "    print(\"\\n\")\n",
    "end\n",
    "\n",
    "AlgorithmQuality([1 0; 6 5], grammSchmidt);\n",
    "AlgorithmQuality([1 0 3; 6 5 7; 5 7 8], grammSchmidt);\n"
   ]
  },
  {
   "cell_type": "code",
   "execution_count": 100,
   "id": "3f1bde4f-e930-4b7d-8805-e17406ca0bf5",
   "metadata": {
    "tags": []
   },
   "outputs": [
    {
     "name": "stdout",
     "output_type": "stream",
     "text": [
      "===============================\n",
      "QR comparison\n",
      "Average Error: 4.897224159005642e-16\n",
      "Max Error: 1.2831877291517952e-14\n",
      "Average Error: 1.0955804545018407e-6\n",
      "Max Error: 2.2411346435546875e-5\n",
      "\n"
     ]
    }
   ],
   "source": [
    "\n",
    "function JordanBlockGenerator(size, lambda)\n",
    "    R = Matrix{Float64}(undef, size, 0)\n",
    "    for i in 1:size \n",
    "        R = hcat(R, rand(size) * lambda .- (lambda/2))\n",
    "        #R = hcat(R, [(j == i) ? Float64(1.0) : (abs(i - j) > 0) ? (i - j)*lambda : Float64(0.0) for j in 1:size]) \n",
    "    end\n",
    "    return R\n",
    "end \n",
    "R = (JordanBlockGenerator(30, 10^10))\n",
    "\n",
    "#for i in 1:10\n",
    "#    print(R[:, i], \"\\n\")\n",
    "#end\n",
    "\n",
    "AlgorithmQuality(R, grammSchmidt);"
   ]
  },
  {
   "cell_type": "code",
   "execution_count": null,
   "id": "dcfbb679-a368-453d-bca0-09ae64ec43ab",
   "metadata": {},
   "outputs": [],
   "source": []
  },
  {
   "cell_type": "code",
   "execution_count": null,
   "id": "d1673cf7-7f7b-43d6-9a3c-0300fcfee420",
   "metadata": {},
   "outputs": [],
   "source": []
  }
 ],
 "metadata": {
  "kernelspec": {
   "display_name": "Julia 1.6.3",
   "language": "julia",
   "name": "julia-1.6"
  },
  "language_info": {
   "file_extension": ".jl",
   "mimetype": "application/julia",
   "name": "julia",
   "version": "1.7.0"
  }
 },
 "nbformat": 4,
 "nbformat_minor": 5
}
