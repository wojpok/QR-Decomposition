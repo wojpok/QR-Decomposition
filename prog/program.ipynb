{
 "cells": [
  {
   "cell_type": "markdown",
   "id": "352147c9-5b56-45af-8b17-c02a6b767741",
   "metadata": {},
   "source": [
    "# Dekompozycja QR"
   ]
  },
  {
   "cell_type": "code",
   "execution_count": null,
   "id": "76d83d1b-38f3-4aad-a423-6b7c0cb7ef44",
   "metadata": {},
   "outputs": [],
   "source": []
  }
 ],
 "metadata": {
  "kernelspec": {
   "display_name": "Julia 1.6.3",
   "language": "julia",
   "name": "julia-1.6"
  },
  "language_info": {
   "file_extension": ".jl",
   "mimetype": "application/julia",
   "name": "julia",
   "version": "1.7.0"
  }
 },
 "nbformat": 4,
 "nbformat_minor": 5
}
